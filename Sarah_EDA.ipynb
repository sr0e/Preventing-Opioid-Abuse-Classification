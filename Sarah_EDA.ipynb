{
 "cells": [
  {
   "cell_type": "code",
   "execution_count": 1,
   "id": "dd741bed-4fa5-4ce9-81b8-9a8fd7f1c3d2",
   "metadata": {
    "tags": []
   },
   "outputs": [],
   "source": [
    "import os\n",
    "import pandas as pd\n",
    "import numpy as np\n",
    "import matplotlib.pyplot as plt"
   ]
  },
  {
   "cell_type": "code",
   "execution_count": 3,
   "id": "73a7800c-0fd8-4dff-92ad-82cba3420778",
   "metadata": {
    "tags": []
   },
   "outputs": [],
   "source": [
    "if not os.path.exists('data'):\n",
    "    os.mkdir('data')"
   ]
  },
  {
   "cell_type": "code",
   "execution_count": 5,
   "id": "1481eecd-ab44-42c9-a1a4-4a623c443006",
   "metadata": {
    "tags": []
   },
   "outputs": [],
   "source": [
    "injury = pd.read_csv('data/injury_data.csv')"
   ]
  },
  {
   "cell_type": "code",
   "execution_count": 7,
   "id": "6b69633a-fa5f-436b-82ce-1e7c79267fd3",
   "metadata": {
    "tags": []
   },
   "outputs": [
    {
     "data": {
      "text/html": [
       "<div>\n",
       "<style scoped>\n",
       "    .dataframe tbody tr th:only-of-type {\n",
       "        vertical-align: middle;\n",
       "    }\n",
       "\n",
       "    .dataframe tbody tr th {\n",
       "        vertical-align: top;\n",
       "    }\n",
       "\n",
       "    .dataframe thead th {\n",
       "        text-align: right;\n",
       "    }\n",
       "</style>\n",
       "<table border=\"1\" class=\"dataframe\">\n",
       "  <thead>\n",
       "    <tr style=\"text-align: right;\">\n",
       "      <th></th>\n",
       "      <th>Player_Age</th>\n",
       "      <th>Player_Weight</th>\n",
       "      <th>Player_Height</th>\n",
       "      <th>Previous_Injuries</th>\n",
       "      <th>Training_Intensity</th>\n",
       "      <th>Recovery_Time</th>\n",
       "      <th>Likelihood_of_Injury</th>\n",
       "    </tr>\n",
       "  </thead>\n",
       "  <tbody>\n",
       "    <tr>\n",
       "      <th>0</th>\n",
       "      <td>24</td>\n",
       "      <td>66.251933</td>\n",
       "      <td>175.732429</td>\n",
       "      <td>1</td>\n",
       "      <td>0.457929</td>\n",
       "      <td>5</td>\n",
       "      <td>0</td>\n",
       "    </tr>\n",
       "    <tr>\n",
       "      <th>1</th>\n",
       "      <td>37</td>\n",
       "      <td>70.996271</td>\n",
       "      <td>174.581650</td>\n",
       "      <td>0</td>\n",
       "      <td>0.226522</td>\n",
       "      <td>6</td>\n",
       "      <td>1</td>\n",
       "    </tr>\n",
       "    <tr>\n",
       "      <th>2</th>\n",
       "      <td>32</td>\n",
       "      <td>80.093781</td>\n",
       "      <td>186.329618</td>\n",
       "      <td>0</td>\n",
       "      <td>0.613970</td>\n",
       "      <td>2</td>\n",
       "      <td>1</td>\n",
       "    </tr>\n",
       "    <tr>\n",
       "      <th>3</th>\n",
       "      <td>28</td>\n",
       "      <td>87.473271</td>\n",
       "      <td>175.504240</td>\n",
       "      <td>1</td>\n",
       "      <td>0.252858</td>\n",
       "      <td>4</td>\n",
       "      <td>1</td>\n",
       "    </tr>\n",
       "    <tr>\n",
       "      <th>4</th>\n",
       "      <td>25</td>\n",
       "      <td>84.659220</td>\n",
       "      <td>190.175012</td>\n",
       "      <td>0</td>\n",
       "      <td>0.577632</td>\n",
       "      <td>1</td>\n",
       "      <td>1</td>\n",
       "    </tr>\n",
       "  </tbody>\n",
       "</table>\n",
       "</div>"
      ],
      "text/plain": [
       "   Player_Age  Player_Weight  Player_Height  Previous_Injuries  \\\n",
       "0          24      66.251933     175.732429                  1   \n",
       "1          37      70.996271     174.581650                  0   \n",
       "2          32      80.093781     186.329618                  0   \n",
       "3          28      87.473271     175.504240                  1   \n",
       "4          25      84.659220     190.175012                  0   \n",
       "\n",
       "   Training_Intensity  Recovery_Time  Likelihood_of_Injury  \n",
       "0            0.457929              5                     0  \n",
       "1            0.226522              6                     1  \n",
       "2            0.613970              2                     1  \n",
       "3            0.252858              4                     1  \n",
       "4            0.577632              1                     1  "
      ]
     },
     "execution_count": 7,
     "metadata": {},
     "output_type": "execute_result"
    }
   ],
   "source": [
    "injury.head()"
   ]
  },
  {
   "cell_type": "code",
   "execution_count": 11,
   "id": "1bf8703a-f2db-460e-a68e-08bd234e528c",
   "metadata": {
    "tags": []
   },
   "outputs": [
    {
     "data": {
      "text/plain": [
       "Likelihood_of_Injury\n",
       "0    0.5\n",
       "1    0.5\n",
       "Name: proportion, dtype: float64"
      ]
     },
     "execution_count": 11,
     "metadata": {},
     "output_type": "execute_result"
    }
   ],
   "source": [
    "injury['Likelihood_of_Injury'].value_counts(normalize=True)"
   ]
  },
  {
   "cell_type": "code",
   "execution_count": 13,
   "id": "21ea3a4b-87e3-49b7-a3f1-c34511a0fe8c",
   "metadata": {
    "tags": []
   },
   "outputs": [
    {
     "data": {
      "text/plain": [
       "Previous_Injuries\n",
       "1    0.515\n",
       "0    0.485\n",
       "Name: proportion, dtype: float64"
      ]
     },
     "execution_count": 13,
     "metadata": {},
     "output_type": "execute_result"
    }
   ],
   "source": [
    "injury['Previous_Injuries'].value_counts(normalize=True)"
   ]
  },
  {
   "cell_type": "code",
   "execution_count": 25,
   "id": "9ae5fc84-2f2e-4b56-ae4b-525a2043df2b",
   "metadata": {
    "tags": []
   },
   "outputs": [
    {
     "data": {
      "text/html": [
       "<div>\n",
       "<style scoped>\n",
       "    .dataframe tbody tr th:only-of-type {\n",
       "        vertical-align: middle;\n",
       "    }\n",
       "\n",
       "    .dataframe tbody tr th {\n",
       "        vertical-align: top;\n",
       "    }\n",
       "\n",
       "    .dataframe thead th {\n",
       "        text-align: right;\n",
       "    }\n",
       "</style>\n",
       "<table border=\"1\" class=\"dataframe\">\n",
       "  <thead>\n",
       "    <tr style=\"text-align: right;\">\n",
       "      <th></th>\n",
       "      <th>Player_Age</th>\n",
       "      <th>Player_Weight</th>\n",
       "      <th>Player_Height</th>\n",
       "      <th>Previous_Injuries</th>\n",
       "      <th>Training_Intensity</th>\n",
       "      <th>Recovery_Time</th>\n",
       "      <th>Likelihood_of_Injury</th>\n",
       "    </tr>\n",
       "  </thead>\n",
       "  <tbody>\n",
       "    <tr>\n",
       "      <th>count</th>\n",
       "      <td>500.000000</td>\n",
       "      <td>500.000000</td>\n",
       "      <td>500.000000</td>\n",
       "      <td>500.000000</td>\n",
       "      <td>500.000000</td>\n",
       "      <td>500.000000</td>\n",
       "      <td>500.0</td>\n",
       "    </tr>\n",
       "    <tr>\n",
       "      <th>mean</th>\n",
       "      <td>28.232000</td>\n",
       "      <td>74.812577</td>\n",
       "      <td>180.043900</td>\n",
       "      <td>0.534000</td>\n",
       "      <td>0.516067</td>\n",
       "      <td>3.440000</td>\n",
       "      <td>1.0</td>\n",
       "    </tr>\n",
       "    <tr>\n",
       "      <th>std</th>\n",
       "      <td>6.422825</td>\n",
       "      <td>9.982963</td>\n",
       "      <td>9.550901</td>\n",
       "      <td>0.499342</td>\n",
       "      <td>0.281805</td>\n",
       "      <td>1.676909</td>\n",
       "      <td>0.0</td>\n",
       "    </tr>\n",
       "    <tr>\n",
       "      <th>min</th>\n",
       "      <td>18.000000</td>\n",
       "      <td>40.191912</td>\n",
       "      <td>153.611915</td>\n",
       "      <td>0.000000</td>\n",
       "      <td>0.010715</td>\n",
       "      <td>1.000000</td>\n",
       "      <td>1.0</td>\n",
       "    </tr>\n",
       "    <tr>\n",
       "      <th>25%</th>\n",
       "      <td>22.000000</td>\n",
       "      <td>68.123025</td>\n",
       "      <td>173.335334</td>\n",
       "      <td>0.000000</td>\n",
       "      <td>0.270027</td>\n",
       "      <td>2.000000</td>\n",
       "      <td>1.0</td>\n",
       "    </tr>\n",
       "    <tr>\n",
       "      <th>50%</th>\n",
       "      <td>29.000000</td>\n",
       "      <td>75.006655</td>\n",
       "      <td>180.146756</td>\n",
       "      <td>1.000000</td>\n",
       "      <td>0.536075</td>\n",
       "      <td>4.000000</td>\n",
       "      <td>1.0</td>\n",
       "    </tr>\n",
       "    <tr>\n",
       "      <th>75%</th>\n",
       "      <td>34.000000</td>\n",
       "      <td>81.257992</td>\n",
       "      <td>186.343577</td>\n",
       "      <td>1.000000</td>\n",
       "      <td>0.760044</td>\n",
       "      <td>5.000000</td>\n",
       "      <td>1.0</td>\n",
       "    </tr>\n",
       "    <tr>\n",
       "      <th>max</th>\n",
       "      <td>39.000000</td>\n",
       "      <td>100.699268</td>\n",
       "      <td>207.308672</td>\n",
       "      <td>1.000000</td>\n",
       "      <td>0.996949</td>\n",
       "      <td>6.000000</td>\n",
       "      <td>1.0</td>\n",
       "    </tr>\n",
       "  </tbody>\n",
       "</table>\n",
       "</div>"
      ],
      "text/plain": [
       "       Player_Age  Player_Weight  Player_Height  Previous_Injuries  \\\n",
       "count  500.000000     500.000000     500.000000         500.000000   \n",
       "mean    28.232000      74.812577     180.043900           0.534000   \n",
       "std      6.422825       9.982963       9.550901           0.499342   \n",
       "min     18.000000      40.191912     153.611915           0.000000   \n",
       "25%     22.000000      68.123025     173.335334           0.000000   \n",
       "50%     29.000000      75.006655     180.146756           1.000000   \n",
       "75%     34.000000      81.257992     186.343577           1.000000   \n",
       "max     39.000000     100.699268     207.308672           1.000000   \n",
       "\n",
       "       Training_Intensity  Recovery_Time  Likelihood_of_Injury  \n",
       "count          500.000000     500.000000                 500.0  \n",
       "mean             0.516067       3.440000                   1.0  \n",
       "std              0.281805       1.676909                   0.0  \n",
       "min              0.010715       1.000000                   1.0  \n",
       "25%              0.270027       2.000000                   1.0  \n",
       "50%              0.536075       4.000000                   1.0  \n",
       "75%              0.760044       5.000000                   1.0  \n",
       "max              0.996949       6.000000                   1.0  "
      ]
     },
     "execution_count": 25,
     "metadata": {},
     "output_type": "execute_result"
    }
   ],
   "source": [
    "injury.loc[injury['Likelihood_of_Injury'] == 1].describe()"
   ]
  },
  {
   "cell_type": "code",
   "execution_count": 61,
   "id": "69407574-18e3-4691-8cda-313bab69b0de",
   "metadata": {
    "tags": []
   },
   "outputs": [
    {
     "data": {
      "text/plain": [
       "Player_Age\n",
       "18    0.060\n",
       "22    0.057\n",
       "20    0.057\n",
       "34    0.054\n",
       "36    0.051\n",
       "32    0.048\n",
       "25    0.048\n",
       "29    0.047\n",
       "39    0.047\n",
       "38    0.046\n",
       "30    0.045\n",
       "19    0.045\n",
       "23    0.043\n",
       "21    0.043\n",
       "33    0.043\n",
       "24    0.042\n",
       "37    0.041\n",
       "26    0.040\n",
       "31    0.037\n",
       "27    0.036\n",
       "28    0.035\n",
       "35    0.035\n",
       "Name: proportion, dtype: float64"
      ]
     },
     "execution_count": 61,
     "metadata": {},
     "output_type": "execute_result"
    }
   ],
   "source": [
    "injury['Player_Age'].value_counts(normalize=True)"
   ]
  },
  {
   "cell_type": "code",
   "execution_count": 33,
   "id": "eacda471-4d37-48db-a87a-f9d36a4db83d",
   "metadata": {
    "tags": []
   },
   "outputs": [],
   "source": [
    "injured = injury[injury['Likelihood_of_Injury'] == 1]\n",
    "not_injured = injury[injury['Likelihood_of_Injury'] == 0]"
   ]
  },
  {
   "cell_type": "code",
   "execution_count": 67,
   "id": "b53b0943-8e81-48ed-8bd3-e8bc1384aa57",
   "metadata": {
    "tags": []
   },
   "outputs": [
    {
     "data": {
      "text/plain": [
       "Player_Age\n",
       "20    37\n",
       "29    32\n",
       "30    31\n",
       "18    30\n",
       "33    27\n",
       "22    27\n",
       "36    26\n",
       "32    24\n",
       "26    24\n",
       "38    23\n",
       "34    22\n",
       "39    21\n",
       "25    21\n",
       "35    19\n",
       "21    19\n",
       "19    18\n",
       "27    18\n",
       "23    17\n",
       "24    17\n",
       "31    16\n",
       "37    16\n",
       "28    15\n",
       "Name: count, dtype: int64"
      ]
     },
     "execution_count": 67,
     "metadata": {},
     "output_type": "execute_result"
    }
   ],
   "source": [
    "injured['Player_Age'].value_counts()"
   ]
  },
  {
   "cell_type": "code",
   "execution_count": 81,
   "id": "a6677495-3c0a-49fc-b0be-6e2f1a664100",
   "metadata": {
    "tags": []
   },
   "outputs": [
    {
     "data": {
      "image/png": "[encoded data removed]",
      "text/plain": [
       "<Figure size 640x480 with 1 Axes>"
      ]
     },
     "metadata": {},
     "output_type": "display_data"
    }
   ],
   "source": [
    "values, bins, bars = plt.hist(injured['Player_Age'], edgecolor='white', bins=22)\n",
    "plt.bar_label(bars, color='navy');"
   ]
  },
  {
   "cell_type": "code",
   "execution_count": 83,
   "id": "35666f7d-58f3-432e-b3ec-c8c56b7e41fd",
   "metadata": {
    "tags": []
   },
   "outputs": [
    {
     "data": {
      "image/png": "[encoded data removed]",
      "text/plain": [
       "<Figure size 640x480 with 1 Axes>"
      ]
     },
     "metadata": {},
     "output_type": "display_data"
    }
   ],
   "source": [
    "values, bins, bars = plt.hist(not_injured['Player_Age'], edgecolor='white', bins=22)\n",
    "plt.bar_label(bars, color='navy');"
   ]
  },
  {
   "cell_type": "code",
   "execution_count": null,
   "id": "53421e66-ea56-44cd-be30-0e805ee846a1",
   "metadata": {},
   "outputs": [],
   "source": []
  }
 ],
 "metadata": {
  "kernelspec": {
   "display_name": "Python 3 (ipykernel)",
   "language": "python",
   "name": "python3"
  },
  "language_info": {
   "codemirror_mode": {
    "name": "ipython",
    "version": 3
   },
   "file_extension": ".py",
   "mimetype": "text/x-python",
   "name": "python",
   "nbconvert_exporter": "python",
   "pygments_lexer": "ipython3",
   "version": "3.11.7"
  }
 },
 "nbformat": 4,
 "nbformat_minor": 5
}
