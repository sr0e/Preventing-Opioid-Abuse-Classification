


import numpy as np
import pandas as pd
import matplotlib.pyplot as plt
import seaborn as sns
import os


os.getcwd()


pain = pd.read_csv('C:\\Users\\rockm\\Desktop\\GA\\Projects\\project-5\data/prlmis-data-full.csv')


pain.shape


pain.isna().sum()


pain.head()


pain.dtypes


pain.describe()





pain['AGE_MARRIED'] = pain['AGECAT'] * pain['MARRIED']


#pain.head()


pain['AGE_EMPLOY'] = pain['AGECAT'] * pain['EMPLOY18']


pain['REPORTED_HEALTH'] = pain['HEALTH'] * pain['MENTHLTH']


pain['HISTORY'] = pain['PRLMISEVR'] * pain['HEROINEVR']


pain['UPPERS'] = pain['COCAINE'] * pain['AMPHETMN']
pain['DOWNERS'] = (pain['TRQLZRS'] * pain['SEDATVS']) * pain['HEROINUSE']


#pain.head()





interaction_terms = [
    'AGE_MARRIED', 'AGE_EMPLOY', 'REPORTED_HEALTH', 'HISTORY',
    'UPPERS', 'DOWNERS'
]


correlations = pain[interaction_terms + ['PRLMISAB']].corr()['PRLMISAB'].drop('PRLMISAB')


correlations









