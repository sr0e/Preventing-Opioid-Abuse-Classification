


import numpy as np
import pandas as pd
import matplotlib.pyplot as plt
import seaborn as sns
import os


os.getcwd()


pain = pd.read_csv('C:\\Users\\rockm\\Desktop\\GA\\Projects\\project-5\data/prlmis-data-full.csv')


pain.shape


pain.isna().sum()


pain.head()


pain.dtypes


pain.describe()


pain['AGE_MARRIED'] = pain['AGECAT'] * pain['MARRIED']


pain.head()


pain['REPORTED_HEALTH'] = pain['HEALTH'] * pain['MENTHLTH']



