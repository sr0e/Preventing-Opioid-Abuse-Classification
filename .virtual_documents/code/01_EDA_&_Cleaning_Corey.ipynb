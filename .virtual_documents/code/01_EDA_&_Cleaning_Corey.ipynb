


import numpy as np
import pandas as pd
import matplotlib.pyplot as plt
import seaborn as sns
import os


os.getcwd()


pain = pd.read_csv('C:\\Users\\rockm\\Desktop\\GA\\Projects\\project-5\data/prlmis-data-full.csv')


pain.shape


pain.isna().sum()


pain.head()


pain.dtypes


pain.describe()


pain['PRLANY'].describe()


pain['EMPLOY18'] = pain['EMPLOY18'].replace(0,3)


pain['EMPLOY18'].value_counts()





pain['AGE_MARRIED'] = pain['AGECAT'] * pain['MARRIED']


#pain.head()


pain['AGE_EMPLOY'] = pain['AGECAT'] * pain['EMPLOY18']


pain['REPORTED_HEALTH'] = pain['HEALTH'] * pain['MENTHLTH']


pain['HISTORY'] = pain['PRLMISEVR'] * pain['HEROINEVR']


pain['UPPERS'] = pain['COCAINE'] * pain['AMPHETMN']
pain['DOWNERS'] = (pain['TRQLZRS'] * pain['SEDATVS']) * pain['HEROINUSE']


#pain.head()





pain.to_csv(r'C:\Users\rockm\Desktop\GA\Projects\project-5\data\pain_clean.csv', index=False)





interaction_terms = [
    'AGE_MARRIED', 'AGE_EMPLOY', 'REPORTED_HEALTH', 'HISTORY',
    'UPPERS', 'DOWNERS'
]


correlations = pain[interaction_terms + ['PRLMISAB']].corr()['PRLMISAB'].drop('PRLMISAB')


correlations


pain.dtypes











corr_matrix = pain.corr()


mask = np.triu(np.ones_like(corr_matrix, dtype=bool))

plt.figure(figsize=(16, 12))
sns.heatmap(corr_matrix, mask=mask, annot=True, fmt='.2f', cmap='coolwarm', linewidths=0.5)
plt.title('Patient History Correlation Heatmap', size=20)

fig.savefig(r"C:\Users\rockm\Desktop\GA\Projects\project-5\images\correlations.png", dpi=192);


pain['HEROINUSE'].value_counts()


pain['COCAINE'].value_counts()


pain['HALUCNG'].value_counts()


pain['AMPHETMN'].value_counts()


pain['TRQLZRS'].value_counts()


pain['SEDATVS'].value_counts()





columns_of_interest = ['COCAINE', 'HEROINUSE', 'TRQLZRS', 'AMPHETMN', 'SEDATVS', 'HALUCNG']

plot_data= {}
for col in columns_of_interest:
    group_0 = pain[pain[col] == 0]
    group_1_to_5 = pain[pain[col].isin([1, 2, 3, 4, 5])]
    
    percentage_0 = (group_0['PRLMISEVR'] == 1).mean() * 100
    percentage_1_to_5 = (group_1_to_5['PRLMISEVR'] == 1).mean() * 100
    
    plot_data[col] = [percentage_0, percentage_1_to_5]

fig, ax = plt.subplots(figsize=(16, 10))

bar_width = 0.2
index = [0, 2]
labels = ['0', '1-5']
spacing = 0.02
colors = ['blue', 'orange', 'skyblue', 'green', 'yellow', '#D55E00']

for idx, (col, percentages) in enumerate(plot_data.items()):
    bars = ax.bar([i + idx * (bar_width + spacing) for i in index], percentages, bar_width, label=col, color=colors[idx])
    for bar in bars:
        height = bar.get_height()
        ax.text(bar.get_x() + bar.get_width() / 2.0, height, f'{height:.1f}%', ha='center', va='bottom', size=14, fontweight='bold')

ax.set_xlabel('Level of Use', size=20)
ax.set_ylabel('Percentage of Group that Abused Medications', size=20)
ax.tick_params(axis='y', labelsize='x-large')
ax.set_title('Percentage of Patients Who Abused Medications by Drug Use', size=26, loc='left')
ax.set_xticks([i + bar_width * (len(columns_of_interest) / 2) for i in index])
ax.set_xticklabels(labels, size=20)
ax.legend(fontsize='x-large', loc='upper left')
plt.tight_layout()

fig.savefig(r"C:\Users\rockm\Desktop\GA\Projects\project-5\images\patient_percent", dpi=192)





pain['PRLMISEVR'].value_counts()


categories = {
    'All Zeroes': 0,
    'Zeroes in 5': 1,
    'Zeroes in 4': 2,
    'Zeroes in 3': 3,
    'Zeroes in 2': 4,
    'Zeroes in 1': 5,
    'Zeroes in None': 6
}

category_counts = {key: 0 for key in categories.keys()}
colors = ['purple', 'blue', 'orange', 'skyblue', 'green', 'yellow', '#D55E00']
labels = ['None', 'One', 'Two', 'Three', 'Four', 'Five', 'All']

for index, row in pain.iterrows():
    if row['PRLMISEVR'] == 1:
        zero_count = sum(row[col] == 0 for col in columns_of_interest)
        for category, zeroes_needed in categories.items():
            if zero_count == zeroes_needed:
                category_counts[category] += 1
                break

fig, ax = plt.subplots(figsize=(14, 8))

bars = ax.bar(category_counts.keys(), category_counts.values(), color=colors)

for bar in bars:
    height = bar.get_height()
    ax.text(bar.get_x() + bar.get_width() / 2.0, height, f'{int(height)}', ha='center', va='bottom', size=14, fontweight='bold')

ax.set_xlabel('Number of Drug Types Used in Last Year', size=20)
ax.set_ylabel('Number of Patients', size=20)
ax.set_title('Ratio of Patients that Abuse Medications by Number of Drug Types Used', size=24, loc='left')
ax.set_xticklabels(labels, size=14)

plt.tight_layout()

fig.savefig(r"C:\Users\rockm\Desktop\GA\Projects\project-5\images\number_of_drug_types", dpi=192);



