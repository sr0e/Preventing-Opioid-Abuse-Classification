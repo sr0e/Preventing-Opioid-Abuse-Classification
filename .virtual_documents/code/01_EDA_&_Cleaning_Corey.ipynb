


import numpy as np
import pandas as pd
import matplotlib.pyplot as plt
import seaborn as sns
import os


os.getcwd()


pain = pd.read_csv('C:\\Users\\rockm\\Desktop\\GA\\Projects\\project-5\data/prlmis-data-full.csv')


pain.shape


pain.isna().sum()


pain.head()


pain.dtypes


pain.describe()


pain['EMPLOY18'].value_counts()





pain['AGE_MARRIED'] = pain['AGECAT'] * pain['MARRIED']


#pain.head()


pain['AGE_EMPLOY'] = pain['AGECAT'] * pain['EMPLOY18']


pain['REPORTED_HEALTH'] = pain['HEALTH'] * pain['MENTHLTH']


pain['HISTORY'] = pain['PRLMISEVR'] * pain['HEROINEVR']


pain['UPPERS'] = pain['COCAINE'] * pain['AMPHETMN']
pain['DOWNERS'] = (pain['TRQLZRS'] * pain['SEDATVS']) * pain['HEROINUSE']


#pain.head()





pain.to_csv(r'C:\Users\rockm\Desktop\GA\Projects\project-5\data\pain_clean.csv', index=False)





interaction_terms = [
    'AGE_MARRIED', 'AGE_EMPLOY', 'REPORTED_HEALTH', 'HISTORY',
    'UPPERS', 'DOWNERS'
]


correlations = pain[interaction_terms + ['PRLMISAB']].corr()['PRLMISAB'].drop('PRLMISAB')


correlations


pain.dtypes











corr_matrix = pain.corr()


mask = np.triu(np.ones_like(corr_matrix, dtype=bool))

plt.figure(figsize=(16, 12))
sns.heatmap(corr_matrix, mask=mask, annot=True, fmt='.2f', cmap='coolwarm', linewidths=0.5)
plt.title('Patient History Correlation Heatmap', size=20);



